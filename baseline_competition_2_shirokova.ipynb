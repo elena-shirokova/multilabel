{
 "metadata": {
  "name": "",
  "signature": "sha256:bb533fe7c3f23344d198022e33ef63789d2701285a1bbad89c76fc97e56b856d"
 },
 "nbformat": 3,
 "nbformat_minor": 0,
 "worksheets": [
  {
   "cells": [
    {
     "cell_type": "heading",
     "level": 1,
     "metadata": {},
     "source": [
      "Baseline solutions for competition #2"
     ]
    },
    {
     "cell_type": "heading",
     "level": 2,
     "metadata": {},
     "source": [
      "Prepare data"
     ]
    },
    {
     "cell_type": "markdown",
     "metadata": {},
     "source": [
      "Function for reading the data and saving it into a sparse matrix"
     ]
    },
    {
     "cell_type": "code",
     "collapsed": false,
     "input": [
      "from scipy import sparse\n",
      "\n",
      "def read_data_from_file(filename):\n",
      "    values = list()\n",
      "    rows = list()\n",
      "    cols = list()\n",
      "    \n",
      "    header = True\n",
      "    for line in open(filename):\n",
      "        if header:\n",
      "            header = False\n",
      "            continue\n",
      "        value, row, col = [int(x) for x in line.strip().split(',')]\n",
      "        row -= 1\n",
      "        col -= 1\n",
      "        values.append(value)\n",
      "        rows.append(row)\n",
      "        cols.append(col)\n",
      "        \n",
      "    return sparse.csr_matrix((values, (rows, cols)), shape=(10000, 25640))"
     ],
     "language": "python",
     "metadata": {},
     "outputs": [],
     "prompt_number": 1
    },
    {
     "cell_type": "markdown",
     "metadata": {},
     "source": [
      "Read data"
     ]
    },
    {
     "cell_type": "code",
     "collapsed": false,
     "input": [
      "X_train = read_data_from_file('X_train.csv').astype(float)\n",
      "X_test = read_data_from_file('X_test.csv').astype(float)\n",
      "print X_train.shape, X_test.shape"
     ],
     "language": "python",
     "metadata": {},
     "outputs": [
      {
       "output_type": "stream",
       "stream": "stdout",
       "text": [
        "(10000, 25640) (10000, 25640)\n"
       ]
      }
     ],
     "prompt_number": 2
    },
    {
     "cell_type": "markdown",
     "metadata": {},
     "source": [
      "Scale features"
     ]
    },
    {
     "cell_type": "code",
     "collapsed": false,
     "input": [
      "from sklearn.preprocessing import scale\n",
      "\n",
      "X_all = sparse.vstack([X_train, X_test])\n",
      "X_all = scale(X_all, with_mean=False)\n",
      "X_train = X_all[:10000, :]\n",
      "X_test = X_all[10000:, :]\n",
      "\n",
      "del X_all"
     ],
     "language": "python",
     "metadata": {},
     "outputs": [],
     "prompt_number": 3
    },
    {
     "cell_type": "markdown",
     "metadata": {},
     "source": [
      "Function for reading labels"
     ]
    },
    {
     "cell_type": "code",
     "collapsed": false,
     "input": [
      "def read_labels_from_file(filename):\n",
      "    labels = zeros((10000, 83)).astype(int)\n",
      "\n",
      "    header = True\n",
      "    for line in open(filename):\n",
      "        if header:\n",
      "            header = False\n",
      "            continue\n",
      "        row, indeces = line.strip().split(',')\n",
      "        row = int(row) - 1\n",
      "        indeces = [int(x) - 1 for x in indeces.split()]\n",
      "        labels[row, indeces] = 1\n",
      "    \n",
      "    return labels"
     ],
     "language": "python",
     "metadata": {},
     "outputs": [],
     "prompt_number": 4
    },
    {
     "cell_type": "markdown",
     "metadata": {},
     "source": [
      "Read labels"
     ]
    },
    {
     "cell_type": "code",
     "collapsed": false,
     "input": [
      "y_train = read_labels_from_file('y_train.csv')\n",
      "print y_train.shape"
     ],
     "language": "python",
     "metadata": {},
     "outputs": [
      {
       "output_type": "stream",
       "stream": "stdout",
       "text": [
        "(10000, 83)\n"
       ]
      }
     ],
     "prompt_number": 5
    },
    {
     "cell_type": "markdown",
     "metadata": {},
     "source": [
      "Function for printing labels in the proper format"
     ]
    },
    {
     "cell_type": "code",
     "collapsed": false,
     "input": [
      "def write_labels_to_file(labels, filename):\n",
      "    outfile = open(filename, 'w')\n",
      "    print >> outfile, \"Id,Labels\"\n",
      "    for i, line in enumerate(labels):\n",
      "        elements = [str(x) for x in list(nonzero(line)[0] + 1)]\n",
      "        \n",
      "        print >> outfile, \"%d,%s\" % (i + 1, ' '.join(elements))"
     ],
     "language": "python",
     "metadata": {},
     "outputs": [],
     "prompt_number": 6
    },
    {
     "cell_type": "markdown",
     "metadata": {},
     "source": [
      "**Bayes Approach**"
     ]
    },
    {
     "cell_type": "code",
     "collapsed": false,
     "input": [
      "from sklearn.naive_bayes import GaussianNB, MultinomialNB,BernoulliNB\n",
      "from sklearn.base import BaseEstimator, ClassifierMixin\n",
      "from sklearn.multiclass import OneVsRestClassifier\n"
     ],
     "language": "python",
     "metadata": {},
     "outputs": [],
     "prompt_number": 7
    },
    {
     "cell_type": "markdown",
     "metadata": {},
     "source": [
      "Find optimal neigbours number"
     ]
    },
    {
     "cell_type": "code",
     "collapsed": false,
     "input": [
      "from sklearn.ensemble import RandomForestClassifier\n",
      "from sklearn.decomposition import TruncatedSVD\n",
      "\n",
      "from sklearn.cross_validation import train_test_split\n",
      "import csv\n",
      "\n",
      "a_train, a_test,b_train,b_test = train_test_split(X_train, y_train, test_size=0.5, random_state=50)\n",
      "\n",
      "print a_train.shape,b_train.shape, a_test.shape,b_test.shape"
     ],
     "language": "python",
     "metadata": {},
     "outputs": [
      {
       "output_type": "stream",
       "stream": "stdout",
       "text": [
        "(5000, 25640) (5000, 83) (5000, 25640) (5000, 83)\n"
       ]
      }
     ],
     "prompt_number": 8
    },
    {
     "cell_type": "heading",
     "level": 1,
     "metadata": {},
     "source": [
      "LinearSVC"
     ]
    },
    {
     "cell_type": "markdown",
     "metadata": {},
     "source": [
      "Function for a nice visualization"
     ]
    },
    {
     "cell_type": "code",
     "collapsed": false,
     "input": [
      "from sklearn.metrics import f1_score, make_scorer\n",
      "from sklearn.grid_search import GridSearchCV\n",
      "\n",
      "def plot_grid_searcher_results(grid_seacher_nb, log_scale):\n",
      "    means = list()\n",
      "    param_values = list()\n",
      "\n",
      "    for score in grid_searcher_nb.grid_scores_:\n",
      "        print score.cv_validation_scores\n",
      "        means.append(score.mean_validation_score)\n",
      "        param_values.append(score.parameters.values()[0])\n",
      "\n",
      "    parameter_name = grid_searcher_nb.grid_scores_[0].parameters.keys()[0]\n",
      "    means = array(means)\n",
      "    \n",
      "    plot(param_values, means)\n",
      "    if log_scale:\n",
      "        xscale('log')\n",
      "    xlabel(parameter_name)\n",
      "    ylabel('Quality')"
     ],
     "language": "python",
     "metadata": {},
     "outputs": [],
     "prompt_number": 9
    },
    {
     "cell_type": "heading",
     "level": 1,
     "metadata": {},
     "source": [
      "Function for multi-label learning"
     ]
    },
    {
     "cell_type": "code",
     "collapsed": false,
     "input": [
      "from sklearn.metrics import f1_score, make_scorer\n",
      "from sklearn.grid_search import GridSearchCV\n",
      "import numpy as np\n",
      "from sklearn import preprocessing\n",
      "from sklearn.ensemble import GradientBoostingClassifier\n",
      "from sklearn.linear_model import LogisticRegression\n",
      "from sklearn.svm import LinearSVC,SVC\n",
      "\n",
      "\n",
      "def classify(model_to_set,params,x_train=a_train,x_test=a_test,y_train=b_train):\n",
      "    model = OneVsRestClassifier(model_to_set,n_jobs=-1)\n",
      "    grid_searcher = GridSearchCV(\n",
      "            estimator=model,\n",
      "            param_grid=params,\n",
      "            scoring=make_scorer(f1_score, average='samples'),\n",
      "            cv=2,\n",
      "    )\n",
      "\n",
      "    grid_searcher.fit(x_train, y_train)\n",
      "    labels = grid_searcher.best_estimator_.predict(x_test)\n",
      "    return labels\n"
     ],
     "language": "python",
     "metadata": {},
     "outputs": [],
     "prompt_number": 10
    },
    {
     "cell_type": "heading",
     "level": 1,
     "metadata": {},
     "source": [
      "Get matrix of probabilities for each class"
     ]
    },
    {
     "cell_type": "code",
     "collapsed": false,
     "input": [
      "def get_proba(grid_searcher):\n",
      "    proba = grid_searcher.best_estimator_.predict_proba(a_test)\n",
      "    return proba\n"
     ],
     "language": "python",
     "metadata": {},
     "outputs": [],
     "prompt_number": 11
    },
    {
     "cell_type": "heading",
     "level": 1,
     "metadata": {},
     "source": [
      "Classfiers"
     ]
    },
    {
     "cell_type": "code",
     "collapsed": false,
     "input": [
      "from sklearn.feature_extraction.text import TfidfTransformer\n",
      "nb_parameters = {'estimator__alpha': arange(0,1,0.1)}\n",
      "\n",
      "model_to_set = OneVsRestClassifier(BernoulliNB(),n_jobs=-1)\n",
      "\n",
      "grid_searcher_nb = GridSearchCV(\n",
      "            estimator=OneVsRestClassifier(MultinomialNB(),n_jobs=-1),\n",
      "            param_grid=nb_parameters,\n",
      "            scoring=make_scorer(f1_score, average='samples'),\n",
      "            cv=2,\n",
      "    )\n",
      "\n",
      "tfidf = TfidfTransformer('l2',use_idf=True,smooth_idf=True)\n",
      "\n",
      "a_train_tf = tfidf.fit_transform(a_train)\n",
      "a_test_tf = tfidf.transform(a_test)\n",
      "\n",
      "\n",
      "grid_searcher_nb.fit(a_train_tf, b_train)\n",
      "nb_labels = grid_searcher_nb.best_estimator_.predict(a_test_tf)\n",
      "print grid_searcher_nb.best_score_\n",
      "plot_grid_searcher_results(grid_searcher_nb, log_scale=False)"
     ],
     "language": "python",
     "metadata": {},
     "outputs": [
      {
       "output_type": "stream",
       "stream": "stderr",
       "text": [
        "/Library/Python/2.7/site-packages/sklearn/utils/extmath.py:340: RuntimeWarning: invalid value encountered in subtract\n",
        "  out = np.log(np.sum(np.exp(arr - vmax), axis=0))\n",
        "/Library/Python/2.7/site-packages/sklearn/preprocessing/label.py:614: RuntimeWarning: invalid value encountered in greater\n",
        "  y = np.array(y > threshold, dtype=np.int)\n",
        "/Library/Python/2.7/site-packages/sklearn/naive_bayes.py:435: RuntimeWarning: divide by zero encountered in log\n",
        "  self.feature_log_prob_ = (np.log(smoothed_fc)\n",
        "/Library/Python/2.7/site-packages/sklearn/naive_bayes.py:435: RuntimeWarning: divide by zero encountered in log\n",
        "  self.feature_log_prob_ = (np.log(smoothed_fc)\n",
        "/Library/Python/2.7/site-packages/sklearn/naive_bayes.py:435: RuntimeWarning: divide by zero encountered in log\n",
        "  self.feature_log_prob_ = (np.log(smoothed_fc)\n",
        "/Library/Python/2.7/site-packages/sklearn/naive_bayes.py:435: RuntimeWarning: divide by zero encountered in log\n",
        "  self.feature_log_prob_ = (np.log(smoothed_fc)\n"
       ]
      },
      {
       "output_type": "stream",
       "stream": "stderr",
       "text": [
        "/Library/Python/2.7/site-packages/sklearn/metrics/metrics.py:1771: UndefinedMetricWarning: F-score is ill-defined and being set to 0.0 in samples with no predicted labels.\n",
        "  'precision', 'predicted', average, warn_for)\n"
       ]
      },
      {
       "output_type": "stream",
       "stream": "stderr",
       "text": [
        "/Library/Python/2.7/site-packages/sklearn/naive_bayes.py:435: RuntimeWarning: divide by zero encountered in log\n",
        "  self.feature_log_prob_ = (np.log(smoothed_fc)\n",
        "/Library/Python/2.7/site-packages/sklearn/naive_bayes.py:435: RuntimeWarning: divide by zero encountered in log\n",
        "  self.feature_log_prob_ = (np.log(smoothed_fc)\n",
        "/Library/Python/2.7/site-packages/sklearn/naive_bayes.py:435: RuntimeWarning: divide by zero encountered in log\n",
        "  self.feature_log_prob_ = (np.log(smoothed_fc)\n",
        "/Library/Python/2.7/site-packages/sklearn/naive_bayes.py:435: RuntimeWarning: divide by zero encountered in log\n",
        "  self.feature_log_prob_ = (np.log(smoothed_fc)\n",
        "/Library/Python/2.7/site-packages/sklearn/multiclass.py:57: UserWarning: Label not 76 is present in all training examples.\n",
        "  str(classes[c]))\n"
       ]
      },
      {
       "output_type": "stream",
       "stream": "stderr",
       "text": [
        "/Library/Python/2.7/site-packages/sklearn/multiclass.py:57: UserWarning: Label not 76 is present in all training examples.\n",
        "  str(classes[c]))\n"
       ]
      },
      {
       "output_type": "stream",
       "stream": "stderr",
       "text": [
        "/Library/Python/2.7/site-packages/sklearn/multiclass.py:57: UserWarning: Label not 76 is present in all training examples.\n",
        "  str(classes[c]))\n"
       ]
      },
      {
       "output_type": "stream",
       "stream": "stderr",
       "text": [
        "/Library/Python/2.7/site-packages/sklearn/multiclass.py:57: UserWarning: Label not 76 is present in all training examples.\n",
        "  str(classes[c]))\n"
       ]
      },
      {
       "output_type": "stream",
       "stream": "stderr",
       "text": [
        "/Library/Python/2.7/site-packages/sklearn/multiclass.py:57: UserWarning: Label not 76 is present in all training examples.\n",
        "  str(classes[c]))\n"
       ]
      },
      {
       "output_type": "stream",
       "stream": "stderr",
       "text": [
        "/Library/Python/2.7/site-packages/sklearn/multiclass.py:57: UserWarning: Label not 76 is present in all training examples.\n",
        "  str(classes[c]))\n"
       ]
      },
      {
       "output_type": "stream",
       "stream": "stderr",
       "text": [
        "/Library/Python/2.7/site-packages/sklearn/multiclass.py:57: UserWarning: Label not 76 is present in all training examples.\n",
        "  str(classes[c]))\n"
       ]
      },
      {
       "output_type": "stream",
       "stream": "stderr",
       "text": [
        "/Library/Python/2.7/site-packages/sklearn/multiclass.py:57: UserWarning: Label not 76 is present in all training examples.\n",
        "  str(classes[c]))\n"
       ]
      },
      {
       "output_type": "stream",
       "stream": "stderr",
       "text": [
        "/Library/Python/2.7/site-packages/sklearn/multiclass.py:57: UserWarning: Label not 76 is present in all training examples.\n",
        "  str(classes[c]))\n"
       ]
      },
      {
       "output_type": "stream",
       "stream": "stderr",
       "text": [
        "/Library/Python/2.7/site-packages/sklearn/multiclass.py:57: UserWarning: Label not 76 is present in all training examples.\n",
        "  str(classes[c]))\n"
       ]
      },
      {
       "output_type": "stream",
       "stream": "stdout",
       "text": [
        "0.396204739249\n",
        "[ 0.09319461  0.08601324]\n",
        "[ 0.39958935  0.39282013]\n",
        "[ 0.36567132  0.36253676]\n",
        "[ 0.32371717  0.31977937]\n",
        "[ 0.2835751   0.28214465]\n",
        "[ 0.24629206  0.2460295 ]\n",
        "[ 0.21385012  0.21484416]\n",
        "[ 0.18706603  0.1915089 ]\n",
        "[ 0.16366165  0.16579326]\n",
        "[ 0.14606245  0.14794518]\n"
       ]
      },
      {
       "metadata": {},
       "output_type": "display_data",
       "png": "[encoded data removed]",
       "text": [
        "<matplotlib.figure.Figure at 0x10b908dd0>"
       ]
      }
     ],
     "prompt_number": 11
    },
    {
     "cell_type": "code",
     "collapsed": false,
     "input": [
      "from sklearn.linear_model import SGDClassifier\n",
      "import numpy as np\n",
      "from numpy import log\n",
      "\n",
      "#log_parameters = {'estimator__alpha': arange(0.1,1,0.1),'estimator__loss':['log']}\n",
      "log_parameters = {'estimator__C': logspace(5,25,8)}\n",
      "\n",
      "grid_searcher_log = GridSearchCV(\n",
      "            estimator=OneVsRestClassifier(LogisticRegression(),n_jobs=-1),\n",
      "            param_grid=log_parameters,\n",
      "            scoring=make_scorer(f1_score, average='samples'),\n",
      "            cv=2,\n",
      "    )\n",
      "\n",
      "X_normalized = preprocessing.normalize(a_train)\n",
      "grid_searcher_log.fit(a_train, b_train)\n",
      "log_labels = grid_searcher_log.best_estimator_.predict(a_test)\n",
      "print grid_searcher_log.best_score_\n",
      "plot_grid_searcher_results(grid_searcher_log, log_scale=True)"
     ],
     "language": "python",
     "metadata": {},
     "outputs": [
      {
       "output_type": "stream",
       "stream": "stderr",
       "text": [
        "/Library/Python/2.7/site-packages/sklearn/multiclass.py:57: UserWarning: Label not 76 is present in all training examples.\n",
        "  str(classes[c]))\n"
       ]
      },
      {
       "output_type": "stream",
       "stream": "stderr",
       "text": [
        "/Library/Python/2.7/site-packages/sklearn/multiclass.py:57: UserWarning: Label not 76 is present in all training examples.\n",
        "  str(classes[c]))\n"
       ]
      },
      {
       "output_type": "stream",
       "stream": "stderr",
       "text": [
        "/Library/Python/2.7/site-packages/sklearn/multiclass.py:57: UserWarning: Label not 76 is present in all training examples.\n",
        "  str(classes[c]))\n"
       ]
      },
      {
       "output_type": "stream",
       "stream": "stderr",
       "text": [
        "/Library/Python/2.7/site-packages/sklearn/multiclass.py:57: UserWarning: Label not 76 is present in all training examples.\n",
        "  str(classes[c]))\n"
       ]
      },
      {
       "output_type": "stream",
       "stream": "stderr",
       "text": [
        "/Library/Python/2.7/site-packages/sklearn/multiclass.py:57: UserWarning: Label not 76 is present in all training examples.\n",
        "  str(classes[c]))\n"
       ]
      },
      {
       "output_type": "stream",
       "stream": "stderr",
       "text": [
        "/Library/Python/2.7/site-packages/sklearn/multiclass.py:57: UserWarning: Label not 76 is present in all training examples.\n",
        "  str(classes[c]))\n"
       ]
      },
      {
       "output_type": "stream",
       "stream": "stderr",
       "text": [
        "/Library/Python/2.7/site-packages/sklearn/multiclass.py:57: UserWarning: Label not 76 is present in all training examples.\n",
        "  str(classes[c]))\n"
       ]
      },
      {
       "output_type": "stream",
       "stream": "stderr",
       "text": [
        "/Library/Python/2.7/site-packages/sklearn/multiclass.py:57: UserWarning: Label not 76 is present in all training examples.\n",
        "  str(classes[c]))\n"
       ]
      },
      {
       "output_type": "stream",
       "stream": "stdout",
       "text": [
        "0.364383636005\n",
        "[ 0.09319461  0.08601324]\n",
        "[ 0.39958935  0.39282013]\n",
        "[ 0.36567132  0.36253676]\n",
        "[ 0.32371717  0.31977937]\n",
        "[ 0.2835751   0.28214465]\n",
        "[ 0.24629206  0.2460295 ]\n",
        "[ 0.21385012  0.21484416]\n",
        "[ 0.18706603  0.1915089 ]\n",
        "[ 0.16366165  0.16579326]\n",
        "[ 0.14606245  0.14794518]\n"
       ]
      },
      {
       "metadata": {},
       "output_type": "display_data",
       "png": "[encoded data removed]",
       "text": [
        "<matplotlib.figure.Figure at 0x10b8dad90>"
       ]
      }
     ],
     "prompt_number": 12
    },
    {
     "cell_type": "code",
     "collapsed": false,
     "input": [
      "from sklearn.base import BaseEstimator, ClassifierMixin\n",
      "from sklearn.neighbors import KNeighborsClassifier\n",
      "from sklearn.multiclass import OneVsRestClassifier\n",
      "\n",
      "class BaselineKnnClassifier(BaseEstimator, ClassifierMixin):\n",
      "    def __init__(self, k=1, n_jobs=-1):\n",
      "        self.k = k\n",
      "        self.n_jobs = n_jobs\n",
      "    \n",
      "    def fit(self, X, y):\n",
      "        self.clf = OneVsRestClassifier(\n",
      "                KNeighborsClassifier(n_neighbors=self.k, weights='distance'),\n",
      "                n_jobs=self.n_jobs,\n",
      "        )\n",
      "        self.clf.fit(X, y)\n",
      "    \n",
      "    def predict(self, X):\n",
      "        return self.clf.predict(X)\n",
      "    \n",
      "    def predict_proba(self, X):\n",
      "        return self.clf.predict_proba(X)"
     ],
     "language": "python",
     "metadata": {},
     "outputs": [],
     "prompt_number": 13
    },
    {
     "cell_type": "code",
     "collapsed": false,
     "input": [
      "from sklearn.metrics import f1_score, make_scorer\n",
      "from sklearn.grid_search import GridSearchCV\n",
      "\n",
      "grid_searcher = GridSearchCV(\n",
      "        estimator=BaselineKnnClassifier(),\n",
      "        param_grid={'k': [1]},\n",
      "        scoring=make_scorer(f1_score, average='samples'),\n",
      "        cv=2,\n",
      ")\n",
      "\n",
      "grid_searcher.fit(a_train, b_train)\n",
      "print grid_searcher.best_params_\n",
      "print grid_searcher.best_score_\n",
      "print grid_searcher.best_estimator_"
     ],
     "language": "python",
     "metadata": {},
     "outputs": [
      {
       "output_type": "stream",
       "stream": "stderr",
       "text": [
        "/Library/Python/2.7/site-packages/sklearn/multiclass.py:57: UserWarning: Label not 76 is present in all training examples.\n",
        "  str(classes[c]))\n"
       ]
      },
      {
       "output_type": "stream",
       "stream": "stdout",
       "text": [
        "{'k': 1}\n",
        "0.237249043179\n",
        "BaselineKnnClassifier(k=1, n_jobs=-1)\n"
       ]
      }
     ],
     "prompt_number": 14
    },
    {
     "cell_type": "heading",
     "level": 1,
     "metadata": {},
     "source": [
      "Find optimal parameter for blending"
     ]
    },
    {
     "cell_type": "code",
     "collapsed": false,
     "input": [
      "knn_labels = grid_searcher.best_estimator_.predict(a_test)\n"
     ],
     "language": "python",
     "metadata": {},
     "outputs": [],
     "prompt_number": 15
    },
    {
     "cell_type": "code",
     "collapsed": false,
     "input": [
      "from sklearn.metrics import f1_score,accuracy_score,roc_auc_score\n",
      "from sklearn.preprocessing import binarize\n",
      "import matplotlib as plt\n",
      "from pylab import *\n",
      "figure(figsize=(10,10))\n",
      "\n",
      "betta = 0.2\n",
      "param_values = []\n",
      "param = arange(0,1,0.1)\n",
      "den=0\n",
      "amax=0\n",
      "bmax=0\n",
      "qmax=0\n",
      "for alpha in param:\n",
      "    for betta in arange(0,1,0.1):\n",
      "        \n",
      "        blend_matrix = alpha*nb_labels + (betta)*log_labels + (1 - alpha - betta)*knn_labels\n",
      "        #blend_matrix = alpha*nb_labels + (1 - alpha)*knn_labels\n",
      "        Q = f1_score(b_test,binarize(blend_matrix))\n",
      "        param_values.append(Q)\n",
      "        #print Q\n",
      "        scatter(alpha,betta,s=800*Q)\n",
      "        den += exp(Q)\n",
      "        if(Q > qmax):\n",
      "            qmax = Q\n",
      "            amax = alpha\n",
      "            bmax = betta\n",
      "print den\n",
      "\n",
      "print qmax, amax, bmax\n",
      "f, ax = plt.subplots(1,1,figsize=(10,6))\n",
      "plt.plot(param_values, color='red', lw=2,linestyle='-', label='c2(n) norm 1 norm 2') "
     ],
     "language": "python",
     "metadata": {},
     "outputs": [
      {
       "output_type": "stream",
       "stream": "stdout",
       "text": [
        "148.078608461\n",
        "0.410516079496 0.1 0.9\n"
       ]
      },
      {
       "metadata": {},
       "output_type": "pyout",
       "prompt_number": 34,
       "text": [
        "[<matplotlib.lines.Line2D at 0x10ec919d0>]"
       ]
      },
      {
       "metadata": {},
       "output_type": "display_data",
       "png": "[encoded data removed]",
       "text": [
        "<matplotlib.figure.Figure at 0x10ec6be90>"
       ]
      },
      {
       "metadata": {},
       "output_type": "display_data",
       "png": "[encoded data removed]",
       "text": [
        "<matplotlib.figure.Figure at 0x10ec6f510>"
       ]
      }
     ],
     "prompt_number": 34
    },
    {
     "cell_type": "code",
     "collapsed": false,
     "input": [
      "nb_pred = grid_searcher_nb.best_estimator_.predict_proba(a_test)\n",
      "\n",
      "log_pred = grid_searcher_log.best_estimator_.predict_proba(a_test)\n",
      "\n",
      "knn_pred = grid_searcher.best_estimator_.predict_proba(a_test)\n",
      "\n"
     ],
     "language": "python",
     "metadata": {},
     "outputs": [
      {
       "output_type": "stream",
       "stream": "stderr",
       "text": [
        "/Library/Python/2.7/site-packages/sklearn/utils/__init__.py:93: DeprecationWarning: Function multilabel_ is deprecated; Attribute multilabel_ is deprecated and will be removed in 0.17. Use 'y_type_.startswith('multilabel')' instead\n",
        "  warnings.warn(msg, category=DeprecationWarning)\n",
        "/Library/Python/2.7/site-packages/sklearn/utils/__init__.py:93: DeprecationWarning: Function multilabel_ is deprecated; Attribute multilabel_ is deprecated and will be removed in 0.17. Use 'y_type_.startswith('multilabel')' instead\n",
        "  warnings.warn(msg, category=DeprecationWarning)\n"
       ]
      },
      {
       "output_type": "stream",
       "stream": "stderr",
       "text": [
        "/Library/Python/2.7/site-packages/sklearn/utils/__init__.py:93: DeprecationWarning: Function multilabel_ is deprecated; Attribute multilabel_ is deprecated and will be removed in 0.17. Use 'y_type_.startswith('multilabel')' instead\n",
        "  warnings.warn(msg, category=DeprecationWarning)\n"
       ]
      }
     ],
     "prompt_number": 189
    },
    {
     "cell_type": "code",
     "collapsed": false,
     "input": [
      "alpha = 0.5\n",
      "\n",
      "beta = 0.1\n",
      "\n",
      "blend = alpha*nb_pred + (alpha-beta)*log_pred + (alpha)*knn_pred"
     ],
     "language": "python",
     "metadata": {},
     "outputs": []
    },
    {
     "cell_type": "code",
     "collapsed": false,
     "input": [
      "\n",
      "pred_test = binarize(blend,threshold=0.85)\n",
      "print f1_score(pred_test,b_test)\n",
      "\n",
      "print pred_test[:1,:11]\n",
      "print b_test[:1,:11]"
     ],
     "language": "python",
     "metadata": {},
     "outputs": [
      {
       "output_type": "stream",
       "stream": "stdout",
       "text": [
        "0.971612640669\n",
        "[[ 0.  0.  0.  0.  0.  0.  0.  0.  0.  0.  0.]]\n",
        "[[0 0 0 0 0 0 0 0 0 0 0]]\n"
       ]
      }
     ],
     "prompt_number": 209
    },
    {
     "cell_type": "code",
     "collapsed": false,
     "input": [
      "from sklearn.preprocessing import normalize\n",
      "from sklearn.feature_selection import SelectKBest\n",
      "from sklearn.ensemble import RandomForestClassifier\n",
      "clf = MultinomialNB()\n",
      "bin_parameters = {'estimator__alpha': arange(0.1,1,0.1)}\n",
      "#bin_parameters = {'estimator__C': logspace(-10,20,8)}\n",
      "#bin_parameters = {'estimator__n_estimators': [100]}\n",
      "grid_searcher_bin = GridSearchCV(\n",
      "            estimator=OneVsRestClassifier(MultinomialNB(),n_jobs=-1),\n",
      "            param_grid=bin_parameters,\n",
      "            scoring=make_scorer(f1_score, average='samples'),\n",
      "            cv=2,\n",
      "    )\n",
      "tfidf = TfidfTransformer('l2',use_idf=True,smooth_idf=True)\n",
      "\n",
      "a_train_tf1 = tfidf.fit_transform(blend)\n",
      "#a_test_tf1 = tfidf.transform(a_test)\n",
      "\n",
      "grid_searcher_bin.fit(blend, b_test)\n",
      "print grid_searcher_bin.best_score_\n",
      "print grid_searcher_bin.best_estimator_\n",
      "res = []\n"
     ],
     "language": "python",
     "metadata": {},
     "outputs": []
    },
    {
     "cell_type": "code",
     "collapsed": false,
     "input": [
      "for alpha in arange(0.1,1,0.1):\n",
      "    blend = alpha*nb_pred + (1-alpha)*log_pred\n",
      "    grid_searcher_bin.fit(blend, b_test)\n",
      "    res.append(grid_searcher_bin.best_score_)\n",
      "    \n",
      "plot(arange(0.1,1,0.1),res)\n",
      "xlabel('alpha parameter for blending')\n",
      "ylabel('Quality')"
     ],
     "language": "python",
     "metadata": {},
     "outputs": [
      {
       "output_type": "stream",
       "stream": "stderr",
       "text": [
        "/Library/Python/2.7/site-packages/sklearn/multiclass.py:57: UserWarning: Label not 76 is present in all training examples.\n",
        "  str(classes[c]))\n"
       ]
      },
      {
       "output_type": "stream",
       "stream": "stderr",
       "text": [
        "/Library/Python/2.7/site-packages/sklearn/multiclass.py:57: UserWarning: Label not 76 is present in all training examples.\n",
        "  str(classes[c]))\n"
       ]
      },
      {
       "output_type": "stream",
       "stream": "stderr",
       "text": [
        "/Library/Python/2.7/site-packages/sklearn/multiclass.py:57: UserWarning: Label not 76 is present in all training examples.\n",
        "  str(classes[c]))\n"
       ]
      },
      {
       "output_type": "stream",
       "stream": "stderr",
       "text": [
        "/Library/Python/2.7/site-packages/sklearn/multiclass.py:57: UserWarning: Label not 76 is present in all training examples.\n",
        "  str(classes[c]))\n"
       ]
      },
      {
       "output_type": "stream",
       "stream": "stderr",
       "text": [
        "/Library/Python/2.7/site-packages/sklearn/multiclass.py:57: UserWarning: Label not 76 is present in all training examples.\n",
        "  str(classes[c]))\n"
       ]
      },
      {
       "output_type": "stream",
       "stream": "stderr",
       "text": [
        "/Library/Python/2.7/site-packages/sklearn/multiclass.py:57: UserWarning: Label not 76 is present in all training examples.\n",
        "  str(classes[c]))\n"
       ]
      },
      {
       "output_type": "stream",
       "stream": "stderr",
       "text": [
        "/Library/Python/2.7/site-packages/sklearn/multiclass.py:57: UserWarning: Label not 76 is present in all training examples.\n",
        "  str(classes[c]))\n"
       ]
      },
      {
       "output_type": "stream",
       "stream": "stderr",
       "text": [
        "/Library/Python/2.7/site-packages/sklearn/multiclass.py:57: UserWarning: Label not 76 is present in all training examples.\n",
        "  str(classes[c]))\n"
       ]
      },
      {
       "output_type": "stream",
       "stream": "stderr",
       "text": [
        "/Library/Python/2.7/site-packages/sklearn/multiclass.py:57: UserWarning: Label not 76 is present in all training examples.\n",
        "  str(classes[c]))\n"
       ]
      },
      {
       "output_type": "stream",
       "stream": "stderr",
       "text": [
        "/Library/Python/2.7/site-packages/sklearn/multiclass.py:57: UserWarning: Label not 76 is present in all training examples.\n",
        "  str(classes[c]))\n"
       ]
      },
      {
       "output_type": "stream",
       "stream": "stderr",
       "text": [
        "/Library/Python/2.7/site-packages/sklearn/multiclass.py:57: UserWarning: Label not 76 is present in all training examples.\n",
        "  str(classes[c]))\n"
       ]
      },
      {
       "output_type": "stream",
       "stream": "stderr",
       "text": [
        "/Library/Python/2.7/site-packages/sklearn/multiclass.py:57: UserWarning: Label not 76 is present in all training examples.\n",
        "  str(classes[c]))\n"
       ]
      },
      {
       "output_type": "stream",
       "stream": "stderr",
       "text": [
        "/Library/Python/2.7/site-packages/sklearn/multiclass.py:57: UserWarning: Label not 76 is present in all training examples.\n",
        "  str(classes[c]))\n"
       ]
      },
      {
       "output_type": "stream",
       "stream": "stderr",
       "text": [
        "/Library/Python/2.7/site-packages/sklearn/multiclass.py:57: UserWarning: Label not 76 is present in all training examples.\n",
        "  str(classes[c]))\n"
       ]
      },
      {
       "output_type": "stream",
       "stream": "stderr",
       "text": [
        "/Library/Python/2.7/site-packages/sklearn/multiclass.py:57: UserWarning: Label not 76 is present in all training examples.\n",
        "  str(classes[c]))\n"
       ]
      },
      {
       "output_type": "stream",
       "stream": "stderr",
       "text": [
        "/Library/Python/2.7/site-packages/sklearn/multiclass.py:57: UserWarning: Label not 76 is present in all training examples.\n",
        "  str(classes[c]))\n"
       ]
      },
      {
       "output_type": "stream",
       "stream": "stderr",
       "text": [
        "/Library/Python/2.7/site-packages/sklearn/multiclass.py:57: UserWarning: Label not 76 is present in all training examples.\n",
        "  str(classes[c]))\n"
       ]
      },
      {
       "output_type": "stream",
       "stream": "stderr",
       "text": [
        "/Library/Python/2.7/site-packages/sklearn/multiclass.py:57: UserWarning: Label not 76 is present in all training examples.\n",
        "  str(classes[c]))\n"
       ]
      },
      {
       "output_type": "stream",
       "stream": "stderr",
       "text": [
        "/Library/Python/2.7/site-packages/sklearn/multiclass.py:57: UserWarning: Label not 76 is present in all training examples.\n",
        "  str(classes[c]))\n"
       ]
      },
      {
       "output_type": "stream",
       "stream": "stderr",
       "text": [
        "/Library/Python/2.7/site-packages/sklearn/multiclass.py:57: UserWarning: Label not 76 is present in all training examples.\n",
        "  str(classes[c]))\n"
       ]
      },
      {
       "output_type": "stream",
       "stream": "stderr",
       "text": [
        "/Library/Python/2.7/site-packages/sklearn/multiclass.py:57: UserWarning: Label not 76 is present in all training examples.\n",
        "  str(classes[c]))\n"
       ]
      },
      {
       "output_type": "stream",
       "stream": "stderr",
       "text": [
        "/Library/Python/2.7/site-packages/sklearn/multiclass.py:57: UserWarning: Label not 76 is present in all training examples.\n",
        "  str(classes[c]))\n"
       ]
      },
      {
       "output_type": "stream",
       "stream": "stderr",
       "text": [
        "/Library/Python/2.7/site-packages/sklearn/multiclass.py:57: UserWarning: Label not 76 is present in all training examples.\n",
        "  str(classes[c]))\n"
       ]
      },
      {
       "output_type": "stream",
       "stream": "stderr",
       "text": [
        "/Library/Python/2.7/site-packages/sklearn/multiclass.py:57: UserWarning: Label not 76 is present in all training examples.\n",
        "  str(classes[c]))\n"
       ]
      },
      {
       "output_type": "stream",
       "stream": "stderr",
       "text": [
        "/Library/Python/2.7/site-packages/sklearn/multiclass.py:57: UserWarning: Label not 76 is present in all training examples.\n",
        "  str(classes[c]))\n"
       ]
      },
      {
       "output_type": "stream",
       "stream": "stderr",
       "text": [
        "/Library/Python/2.7/site-packages/sklearn/multiclass.py:57: UserWarning: Label not 76 is present in all training examples.\n",
        "  str(classes[c]))\n"
       ]
      },
      {
       "output_type": "stream",
       "stream": "stderr",
       "text": [
        "/Library/Python/2.7/site-packages/sklearn/multiclass.py:57: UserWarning: Label not 76 is present in all training examples.\n",
        "  str(classes[c]))\n"
       ]
      },
      {
       "output_type": "stream",
       "stream": "stderr",
       "text": [
        "/Library/Python/2.7/site-packages/sklearn/multiclass.py:57: UserWarning: Label not 76 is present in all training examples.\n",
        "  str(classes[c]))\n"
       ]
      },
      {
       "output_type": "stream",
       "stream": "stderr",
       "text": [
        "/Library/Python/2.7/site-packages/sklearn/multiclass.py:57: UserWarning: Label not 76 is present in all training examples.\n",
        "  str(classes[c]))\n"
       ]
      },
      {
       "output_type": "stream",
       "stream": "stderr",
       "text": [
        "/Library/Python/2.7/site-packages/sklearn/multiclass.py:57: UserWarning: Label not 76 is present in all training examples.\n",
        "  str(classes[c]))\n"
       ]
      },
      {
       "output_type": "stream",
       "stream": "stderr",
       "text": [
        "/Library/Python/2.7/site-packages/sklearn/multiclass.py:57: UserWarning: Label not 76 is present in all training examples.\n",
        "  str(classes[c]))\n"
       ]
      },
      {
       "output_type": "stream",
       "stream": "stderr",
       "text": [
        "/Library/Python/2.7/site-packages/sklearn/multiclass.py:57: UserWarning: Label not 76 is present in all training examples.\n",
        "  str(classes[c]))\n"
       ]
      },
      {
       "output_type": "stream",
       "stream": "stderr",
       "text": [
        "/Library/Python/2.7/site-packages/sklearn/multiclass.py:57: UserWarning: Label not 76 is present in all training examples.\n",
        "  str(classes[c]))\n"
       ]
      },
      {
       "output_type": "stream",
       "stream": "stderr",
       "text": [
        "/Library/Python/2.7/site-packages/sklearn/multiclass.py:57: UserWarning: Label not 76 is present in all training examples.\n",
        "  str(classes[c]))\n"
       ]
      },
      {
       "output_type": "stream",
       "stream": "stderr",
       "text": [
        "/Library/Python/2.7/site-packages/sklearn/multiclass.py:57: UserWarning: Label not 76 is present in all training examples.\n",
        "  str(classes[c]))\n"
       ]
      },
      {
       "output_type": "stream",
       "stream": "stderr",
       "text": [
        "/Library/Python/2.7/site-packages/sklearn/multiclass.py:57: UserWarning: Label not 76 is present in all training examples.\n",
        "  str(classes[c]))\n"
       ]
      },
      {
       "output_type": "stream",
       "stream": "stderr",
       "text": [
        "/Library/Python/2.7/site-packages/sklearn/multiclass.py:57: UserWarning: Label not 76 is present in all training examples.\n",
        "  str(classes[c]))\n"
       ]
      },
      {
       "output_type": "stream",
       "stream": "stderr",
       "text": [
        "/Library/Python/2.7/site-packages/sklearn/multiclass.py:57: UserWarning: Label not 76 is present in all training examples.\n",
        "  str(classes[c]))\n"
       ]
      },
      {
       "output_type": "stream",
       "stream": "stderr",
       "text": [
        "/Library/Python/2.7/site-packages/sklearn/multiclass.py:57: UserWarning: Label not 76 is present in all training examples.\n",
        "  str(classes[c]))\n"
       ]
      },
      {
       "output_type": "stream",
       "stream": "stderr",
       "text": [
        "/Library/Python/2.7/site-packages/sklearn/multiclass.py:57: UserWarning: Label not 76 is present in all training examples.\n",
        "  str(classes[c]))\n"
       ]
      },
      {
       "output_type": "stream",
       "stream": "stderr",
       "text": [
        "/Library/Python/2.7/site-packages/sklearn/multiclass.py:57: UserWarning: Label not 76 is present in all training examples.\n",
        "  str(classes[c]))\n"
       ]
      },
      {
       "output_type": "stream",
       "stream": "stderr",
       "text": [
        "/Library/Python/2.7/site-packages/sklearn/multiclass.py:57: UserWarning: Label not 76 is present in all training examples.\n",
        "  str(classes[c]))\n"
       ]
      },
      {
       "output_type": "stream",
       "stream": "stderr",
       "text": [
        "/Library/Python/2.7/site-packages/sklearn/multiclass.py:57: UserWarning: Label not 76 is present in all training examples.\n",
        "  str(classes[c]))\n"
       ]
      },
      {
       "output_type": "stream",
       "stream": "stderr",
       "text": [
        "/Library/Python/2.7/site-packages/sklearn/multiclass.py:57: UserWarning: Label not 76 is present in all training examples.\n",
        "  str(classes[c]))\n"
       ]
      },
      {
       "output_type": "stream",
       "stream": "stderr",
       "text": [
        "/Library/Python/2.7/site-packages/sklearn/multiclass.py:57: UserWarning: Label not 76 is present in all training examples.\n",
        "  str(classes[c]))\n"
       ]
      },
      {
       "output_type": "stream",
       "stream": "stderr",
       "text": [
        "/Library/Python/2.7/site-packages/sklearn/multiclass.py:57: UserWarning: Label not 76 is present in all training examples.\n",
        "  str(classes[c]))\n"
       ]
      },
      {
       "output_type": "stream",
       "stream": "stderr",
       "text": [
        "/Library/Python/2.7/site-packages/sklearn/multiclass.py:57: UserWarning: Label not 76 is present in all training examples.\n",
        "  str(classes[c]))\n"
       ]
      },
      {
       "output_type": "stream",
       "stream": "stderr",
       "text": [
        "/Library/Python/2.7/site-packages/sklearn/multiclass.py:57: UserWarning: Label not 76 is present in all training examples.\n",
        "  str(classes[c]))\n"
       ]
      },
      {
       "output_type": "stream",
       "stream": "stderr",
       "text": [
        "/Library/Python/2.7/site-packages/sklearn/multiclass.py:57: UserWarning: Label not 76 is present in all training examples.\n",
        "  str(classes[c]))\n"
       ]
      },
      {
       "output_type": "stream",
       "stream": "stderr",
       "text": [
        "/Library/Python/2.7/site-packages/sklearn/multiclass.py:57: UserWarning: Label not 76 is present in all training examples.\n",
        "  str(classes[c]))\n"
       ]
      },
      {
       "output_type": "stream",
       "stream": "stderr",
       "text": [
        "/Library/Python/2.7/site-packages/sklearn/multiclass.py:57: UserWarning: Label not 76 is present in all training examples.\n",
        "  str(classes[c]))\n"
       ]
      },
      {
       "output_type": "stream",
       "stream": "stderr",
       "text": [
        "/Library/Python/2.7/site-packages/sklearn/multiclass.py:57: UserWarning: Label not 76 is present in all training examples.\n",
        "  str(classes[c]))\n"
       ]
      },
      {
       "output_type": "stream",
       "stream": "stderr",
       "text": [
        "/Library/Python/2.7/site-packages/sklearn/multiclass.py:57: UserWarning: Label not 76 is present in all training examples.\n",
        "  str(classes[c]))\n"
       ]
      },
      {
       "output_type": "stream",
       "stream": "stderr",
       "text": [
        "/Library/Python/2.7/site-packages/sklearn/multiclass.py:57: UserWarning: Label not 76 is present in all training examples.\n",
        "  str(classes[c]))\n"
       ]
      },
      {
       "output_type": "stream",
       "stream": "stderr",
       "text": [
        "/Library/Python/2.7/site-packages/sklearn/multiclass.py:57: UserWarning: Label not 76 is present in all training examples.\n",
        "  str(classes[c]))\n"
       ]
      },
      {
       "output_type": "stream",
       "stream": "stderr",
       "text": [
        "/Library/Python/2.7/site-packages/sklearn/multiclass.py:57: UserWarning: Label not 76 is present in all training examples.\n",
        "  str(classes[c]))\n"
       ]
      },
      {
       "output_type": "stream",
       "stream": "stderr",
       "text": [
        "/Library/Python/2.7/site-packages/sklearn/multiclass.py:57: UserWarning: Label not 76 is present in all training examples.\n",
        "  str(classes[c]))\n"
       ]
      },
      {
       "output_type": "stream",
       "stream": "stderr",
       "text": [
        "/Library/Python/2.7/site-packages/sklearn/multiclass.py:57: UserWarning: Label not 76 is present in all training examples.\n",
        "  str(classes[c]))\n"
       ]
      },
      {
       "output_type": "stream",
       "stream": "stderr",
       "text": [
        "/Library/Python/2.7/site-packages/sklearn/multiclass.py:57: UserWarning: Label not 76 is present in all training examples.\n",
        "  str(classes[c]))\n"
       ]
      },
      {
       "output_type": "stream",
       "stream": "stderr",
       "text": [
        "/Library/Python/2.7/site-packages/sklearn/multiclass.py:57: UserWarning: Label not 76 is present in all training examples.\n",
        "  str(classes[c]))\n"
       ]
      },
      {
       "output_type": "stream",
       "stream": "stderr",
       "text": [
        "/Library/Python/2.7/site-packages/sklearn/multiclass.py:57: UserWarning: Label not 76 is present in all training examples.\n",
        "  str(classes[c]))\n"
       ]
      },
      {
       "output_type": "stream",
       "stream": "stderr",
       "text": [
        "/Library/Python/2.7/site-packages/sklearn/multiclass.py:57: UserWarning: Label not 76 is present in all training examples.\n",
        "  str(classes[c]))\n"
       ]
      },
      {
       "output_type": "stream",
       "stream": "stderr",
       "text": [
        "/Library/Python/2.7/site-packages/sklearn/multiclass.py:57: UserWarning: Label not 76 is present in all training examples.\n",
        "  str(classes[c]))\n"
       ]
      },
      {
       "output_type": "stream",
       "stream": "stderr",
       "text": [
        "/Library/Python/2.7/site-packages/sklearn/multiclass.py:57: UserWarning: Label not 76 is present in all training examples.\n",
        "  str(classes[c]))\n"
       ]
      },
      {
       "output_type": "stream",
       "stream": "stderr",
       "text": [
        "/Library/Python/2.7/site-packages/sklearn/multiclass.py:57: UserWarning: Label not 76 is present in all training examples.\n",
        "  str(classes[c]))\n"
       ]
      },
      {
       "output_type": "stream",
       "stream": "stderr",
       "text": [
        "/Library/Python/2.7/site-packages/sklearn/multiclass.py:57: UserWarning: Label not 76 is present in all training examples.\n",
        "  str(classes[c]))\n"
       ]
      },
      {
       "output_type": "stream",
       "stream": "stderr",
       "text": [
        "/Library/Python/2.7/site-packages/sklearn/multiclass.py:57: UserWarning: Label not 76 is present in all training examples.\n",
        "  str(classes[c]))\n"
       ]
      },
      {
       "output_type": "stream",
       "stream": "stderr",
       "text": [
        "/Library/Python/2.7/site-packages/sklearn/multiclass.py:57: UserWarning: Label not 76 is present in all training examples.\n",
        "  str(classes[c]))\n"
       ]
      },
      {
       "output_type": "stream",
       "stream": "stderr",
       "text": [
        "/Library/Python/2.7/site-packages/sklearn/multiclass.py:57: UserWarning: Label not 76 is present in all training examples.\n",
        "  str(classes[c]))\n"
       ]
      },
      {
       "output_type": "stream",
       "stream": "stderr",
       "text": [
        "/Library/Python/2.7/site-packages/sklearn/multiclass.py:57: UserWarning: Label not 76 is present in all training examples.\n",
        "  str(classes[c]))\n"
       ]
      },
      {
       "output_type": "stream",
       "stream": "stderr",
       "text": [
        "/Library/Python/2.7/site-packages/sklearn/multiclass.py:57: UserWarning: Label not 76 is present in all training examples.\n",
        "  str(classes[c]))\n"
       ]
      },
      {
       "output_type": "stream",
       "stream": "stderr",
       "text": [
        "/Library/Python/2.7/site-packages/sklearn/multiclass.py:57: UserWarning: Label not 76 is present in all training examples.\n",
        "  str(classes[c]))\n"
       ]
      },
      {
       "output_type": "stream",
       "stream": "stderr",
       "text": [
        "/Library/Python/2.7/site-packages/sklearn/multiclass.py:57: UserWarning: Label not 76 is present in all training examples.\n",
        "  str(classes[c]))\n"
       ]
      },
      {
       "output_type": "stream",
       "stream": "stderr",
       "text": [
        "/Library/Python/2.7/site-packages/sklearn/multiclass.py:57: UserWarning: Label not 76 is present in all training examples.\n",
        "  str(classes[c]))\n"
       ]
      },
      {
       "output_type": "stream",
       "stream": "stderr",
       "text": [
        "/Library/Python/2.7/site-packages/sklearn/multiclass.py:57: UserWarning: Label not 76 is present in all training examples.\n",
        "  str(classes[c]))\n"
       ]
      },
      {
       "output_type": "stream",
       "stream": "stderr",
       "text": [
        "/Library/Python/2.7/site-packages/sklearn/multiclass.py:57: UserWarning: Label not 76 is present in all training examples.\n",
        "  str(classes[c]))\n"
       ]
      },
      {
       "output_type": "stream",
       "stream": "stderr",
       "text": [
        "/Library/Python/2.7/site-packages/sklearn/multiclass.py:57: UserWarning: Label not 76 is present in all training examples.\n",
        "  str(classes[c]))\n"
       ]
      },
      {
       "output_type": "stream",
       "stream": "stderr",
       "text": [
        "/Library/Python/2.7/site-packages/sklearn/multiclass.py:57: UserWarning: Label not 76 is present in all training examples.\n",
        "  str(classes[c]))\n"
       ]
      },
      {
       "output_type": "stream",
       "stream": "stderr",
       "text": [
        "/Library/Python/2.7/site-packages/sklearn/multiclass.py:57: UserWarning: Label not 76 is present in all training examples.\n",
        "  str(classes[c]))\n"
       ]
      },
      {
       "output_type": "stream",
       "stream": "stderr",
       "text": [
        "/Library/Python/2.7/site-packages/sklearn/multiclass.py:57: UserWarning: Label not 76 is present in all training examples.\n",
        "  str(classes[c]))\n"
       ]
      },
      {
       "output_type": "stream",
       "stream": "stderr",
       "text": [
        "/Library/Python/2.7/site-packages/sklearn/multiclass.py:57: UserWarning: Label not 76 is present in all training examples.\n",
        "  str(classes[c]))\n"
       ]
      },
      {
       "ename": "ValueError",
       "evalue": "x and y must have same first dimension",
       "output_type": "pyerr",
       "traceback": [
        "\u001b[0;31m---------------------------------------------------------------------------\u001b[0m\n\u001b[0;31mValueError\u001b[0m                                Traceback (most recent call last)",
        "\u001b[0;32m<ipython-input-163-62e0d1b14618>\u001b[0m in \u001b[0;36m<module>\u001b[0;34m()\u001b[0m\n\u001b[1;32m      4\u001b[0m     \u001b[0mres\u001b[0m\u001b[0;34m.\u001b[0m\u001b[0mappend\u001b[0m\u001b[0;34m(\u001b[0m\u001b[0mgrid_searcher_bin\u001b[0m\u001b[0;34m.\u001b[0m\u001b[0mbest_score_\u001b[0m\u001b[0;34m)\u001b[0m\u001b[0;34m\u001b[0m\u001b[0m\n\u001b[1;32m      5\u001b[0m \u001b[0;34m\u001b[0m\u001b[0m\n\u001b[0;32m----> 6\u001b[0;31m \u001b[0mplot\u001b[0m\u001b[0;34m(\u001b[0m\u001b[0marange\u001b[0m\u001b[0;34m(\u001b[0m\u001b[0;36m0.1\u001b[0m\u001b[0;34m,\u001b[0m\u001b[0;36m1\u001b[0m\u001b[0;34m,\u001b[0m\u001b[0;36m0.1\u001b[0m\u001b[0;34m)\u001b[0m\u001b[0;34m,\u001b[0m\u001b[0mres\u001b[0m\u001b[0;34m)\u001b[0m\u001b[0;34m\u001b[0m\u001b[0m\n\u001b[0m\u001b[1;32m      7\u001b[0m \u001b[0mxlabel\u001b[0m\u001b[0;34m(\u001b[0m\u001b[0;34m'alpha parameter for blending'\u001b[0m\u001b[0;34m)\u001b[0m\u001b[0;34m\u001b[0m\u001b[0m\n\u001b[1;32m      8\u001b[0m \u001b[0mylabel\u001b[0m\u001b[0;34m(\u001b[0m\u001b[0;34m'Quality'\u001b[0m\u001b[0;34m)\u001b[0m\u001b[0;34m\u001b[0m\u001b[0m\n",
        "\u001b[0;32m/System/Library/Frameworks/Python.framework/Versions/2.7/Extras/lib/python/matplotlib/pyplot.pyc\u001b[0m in \u001b[0;36mplot\u001b[0;34m(*args, **kwargs)\u001b[0m\n\u001b[1;32m   2985\u001b[0m         \u001b[0max\u001b[0m\u001b[0;34m.\u001b[0m\u001b[0mhold\u001b[0m\u001b[0;34m(\u001b[0m\u001b[0mhold\u001b[0m\u001b[0;34m)\u001b[0m\u001b[0;34m\u001b[0m\u001b[0m\n\u001b[1;32m   2986\u001b[0m     \u001b[0;32mtry\u001b[0m\u001b[0;34m:\u001b[0m\u001b[0;34m\u001b[0m\u001b[0m\n\u001b[0;32m-> 2987\u001b[0;31m         \u001b[0mret\u001b[0m \u001b[0;34m=\u001b[0m \u001b[0max\u001b[0m\u001b[0;34m.\u001b[0m\u001b[0mplot\u001b[0m\u001b[0;34m(\u001b[0m\u001b[0;34m*\u001b[0m\u001b[0margs\u001b[0m\u001b[0;34m,\u001b[0m \u001b[0;34m**\u001b[0m\u001b[0mkwargs\u001b[0m\u001b[0;34m)\u001b[0m\u001b[0;34m\u001b[0m\u001b[0m\n\u001b[0m\u001b[1;32m   2988\u001b[0m         \u001b[0mdraw_if_interactive\u001b[0m\u001b[0;34m(\u001b[0m\u001b[0;34m)\u001b[0m\u001b[0;34m\u001b[0m\u001b[0m\n\u001b[1;32m   2989\u001b[0m     \u001b[0;32mfinally\u001b[0m\u001b[0;34m:\u001b[0m\u001b[0;34m\u001b[0m\u001b[0m\n",
        "\u001b[0;32m/System/Library/Frameworks/Python.framework/Versions/2.7/Extras/lib/python/matplotlib/axes.pyc\u001b[0m in \u001b[0;36mplot\u001b[0;34m(self, *args, **kwargs)\u001b[0m\n\u001b[1;32m   4135\u001b[0m         \u001b[0mlines\u001b[0m \u001b[0;34m=\u001b[0m \u001b[0;34m[\u001b[0m\u001b[0;34m]\u001b[0m\u001b[0;34m\u001b[0m\u001b[0m\n\u001b[1;32m   4136\u001b[0m \u001b[0;34m\u001b[0m\u001b[0m\n\u001b[0;32m-> 4137\u001b[0;31m         \u001b[0;32mfor\u001b[0m \u001b[0mline\u001b[0m \u001b[0;32min\u001b[0m \u001b[0mself\u001b[0m\u001b[0;34m.\u001b[0m\u001b[0m_get_lines\u001b[0m\u001b[0;34m(\u001b[0m\u001b[0;34m*\u001b[0m\u001b[0margs\u001b[0m\u001b[0;34m,\u001b[0m \u001b[0;34m**\u001b[0m\u001b[0mkwargs\u001b[0m\u001b[0;34m)\u001b[0m\u001b[0;34m:\u001b[0m\u001b[0;34m\u001b[0m\u001b[0m\n\u001b[0m\u001b[1;32m   4138\u001b[0m             \u001b[0mself\u001b[0m\u001b[0;34m.\u001b[0m\u001b[0madd_line\u001b[0m\u001b[0;34m(\u001b[0m\u001b[0mline\u001b[0m\u001b[0;34m)\u001b[0m\u001b[0;34m\u001b[0m\u001b[0m\n\u001b[1;32m   4139\u001b[0m             \u001b[0mlines\u001b[0m\u001b[0;34m.\u001b[0m\u001b[0mappend\u001b[0m\u001b[0;34m(\u001b[0m\u001b[0mline\u001b[0m\u001b[0;34m)\u001b[0m\u001b[0;34m\u001b[0m\u001b[0m\n",
        "\u001b[0;32m/System/Library/Frameworks/Python.framework/Versions/2.7/Extras/lib/python/matplotlib/axes.pyc\u001b[0m in \u001b[0;36m_grab_next_args\u001b[0;34m(self, *args, **kwargs)\u001b[0m\n\u001b[1;32m    315\u001b[0m                 \u001b[0;32mreturn\u001b[0m\u001b[0;34m\u001b[0m\u001b[0m\n\u001b[1;32m    316\u001b[0m             \u001b[0;32mif\u001b[0m \u001b[0mlen\u001b[0m\u001b[0;34m(\u001b[0m\u001b[0mremaining\u001b[0m\u001b[0;34m)\u001b[0m \u001b[0;34m<=\u001b[0m \u001b[0;36m3\u001b[0m\u001b[0;34m:\u001b[0m\u001b[0;34m\u001b[0m\u001b[0m\n\u001b[0;32m--> 317\u001b[0;31m                 \u001b[0;32mfor\u001b[0m \u001b[0mseg\u001b[0m \u001b[0;32min\u001b[0m \u001b[0mself\u001b[0m\u001b[0;34m.\u001b[0m\u001b[0m_plot_args\u001b[0m\u001b[0;34m(\u001b[0m\u001b[0mremaining\u001b[0m\u001b[0;34m,\u001b[0m \u001b[0mkwargs\u001b[0m\u001b[0;34m)\u001b[0m\u001b[0;34m:\u001b[0m\u001b[0;34m\u001b[0m\u001b[0m\n\u001b[0m\u001b[1;32m    318\u001b[0m                     \u001b[0;32myield\u001b[0m \u001b[0mseg\u001b[0m\u001b[0;34m\u001b[0m\u001b[0m\n\u001b[1;32m    319\u001b[0m                 \u001b[0;32mreturn\u001b[0m\u001b[0;34m\u001b[0m\u001b[0m\n",
        "\u001b[0;32m/System/Library/Frameworks/Python.framework/Versions/2.7/Extras/lib/python/matplotlib/axes.pyc\u001b[0m in \u001b[0;36m_plot_args\u001b[0;34m(self, tup, kwargs)\u001b[0m\n\u001b[1;32m    293\u001b[0m             \u001b[0mx\u001b[0m \u001b[0;34m=\u001b[0m \u001b[0mnp\u001b[0m\u001b[0;34m.\u001b[0m\u001b[0marange\u001b[0m\u001b[0;34m(\u001b[0m\u001b[0my\u001b[0m\u001b[0;34m.\u001b[0m\u001b[0mshape\u001b[0m\u001b[0;34m[\u001b[0m\u001b[0;36m0\u001b[0m\u001b[0;34m]\u001b[0m\u001b[0;34m,\u001b[0m \u001b[0mdtype\u001b[0m\u001b[0;34m=\u001b[0m\u001b[0mfloat\u001b[0m\u001b[0;34m)\u001b[0m\u001b[0;34m\u001b[0m\u001b[0m\n\u001b[1;32m    294\u001b[0m \u001b[0;34m\u001b[0m\u001b[0m\n\u001b[0;32m--> 295\u001b[0;31m         \u001b[0mx\u001b[0m\u001b[0;34m,\u001b[0m \u001b[0my\u001b[0m \u001b[0;34m=\u001b[0m \u001b[0mself\u001b[0m\u001b[0;34m.\u001b[0m\u001b[0m_xy_from_xy\u001b[0m\u001b[0;34m(\u001b[0m\u001b[0mx\u001b[0m\u001b[0;34m,\u001b[0m \u001b[0my\u001b[0m\u001b[0;34m)\u001b[0m\u001b[0;34m\u001b[0m\u001b[0m\n\u001b[0m\u001b[1;32m    296\u001b[0m \u001b[0;34m\u001b[0m\u001b[0m\n\u001b[1;32m    297\u001b[0m         \u001b[0;32mif\u001b[0m \u001b[0mself\u001b[0m\u001b[0;34m.\u001b[0m\u001b[0mcommand\u001b[0m \u001b[0;34m==\u001b[0m \u001b[0;34m'plot'\u001b[0m\u001b[0;34m:\u001b[0m\u001b[0;34m\u001b[0m\u001b[0m\n",
        "\u001b[0;32m/System/Library/Frameworks/Python.framework/Versions/2.7/Extras/lib/python/matplotlib/axes.pyc\u001b[0m in \u001b[0;36m_xy_from_xy\u001b[0;34m(self, x, y)\u001b[0m\n\u001b[1;32m    235\u001b[0m         \u001b[0my\u001b[0m \u001b[0;34m=\u001b[0m \u001b[0mnp\u001b[0m\u001b[0;34m.\u001b[0m\u001b[0matleast_1d\u001b[0m\u001b[0;34m(\u001b[0m\u001b[0my\u001b[0m\u001b[0;34m)\u001b[0m\u001b[0;34m\u001b[0m\u001b[0m\n\u001b[1;32m    236\u001b[0m         \u001b[0;32mif\u001b[0m \u001b[0mx\u001b[0m\u001b[0;34m.\u001b[0m\u001b[0mshape\u001b[0m\u001b[0;34m[\u001b[0m\u001b[0;36m0\u001b[0m\u001b[0;34m]\u001b[0m \u001b[0;34m!=\u001b[0m \u001b[0my\u001b[0m\u001b[0;34m.\u001b[0m\u001b[0mshape\u001b[0m\u001b[0;34m[\u001b[0m\u001b[0;36m0\u001b[0m\u001b[0;34m]\u001b[0m\u001b[0;34m:\u001b[0m\u001b[0;34m\u001b[0m\u001b[0m\n\u001b[0;32m--> 237\u001b[0;31m             \u001b[0;32mraise\u001b[0m \u001b[0mValueError\u001b[0m\u001b[0;34m(\u001b[0m\u001b[0;34m\"x and y must have same first dimension\"\u001b[0m\u001b[0;34m)\u001b[0m\u001b[0;34m\u001b[0m\u001b[0m\n\u001b[0m\u001b[1;32m    238\u001b[0m         \u001b[0;32mif\u001b[0m \u001b[0mx\u001b[0m\u001b[0;34m.\u001b[0m\u001b[0mndim\u001b[0m \u001b[0;34m>\u001b[0m \u001b[0;36m2\u001b[0m \u001b[0;32mor\u001b[0m \u001b[0my\u001b[0m\u001b[0;34m.\u001b[0m\u001b[0mndim\u001b[0m \u001b[0;34m>\u001b[0m \u001b[0;36m2\u001b[0m\u001b[0;34m:\u001b[0m\u001b[0;34m\u001b[0m\u001b[0m\n\u001b[1;32m    239\u001b[0m             \u001b[0;32mraise\u001b[0m \u001b[0mValueError\u001b[0m\u001b[0;34m(\u001b[0m\u001b[0;34m\"x and y can be no greater than 2-D\"\u001b[0m\u001b[0;34m)\u001b[0m\u001b[0;34m\u001b[0m\u001b[0m\n",
        "\u001b[0;31mValueError\u001b[0m: x and y must have same first dimension"
       ]
      },
      {
       "metadata": {},
       "output_type": "display_data",
       "png": "[encoded data removed]",
       "text": [
        "<matplotlib.figure.Figure at 0x1187e5c90>"
       ]
      }
     ],
     "prompt_number": 163
    },
    {
     "cell_type": "heading",
     "level": 1,
     "metadata": {},
     "source": [
      "Naive Bayes"
     ]
    },
    {
     "cell_type": "code",
     "collapsed": false,
     "input": [
      "grid_searcher_nb.best_estimator_.fit(X_train,y_train)\n",
      "grid_searcher_log.best_estimator_.fit(X_train,y_train)"
     ],
     "language": "python",
     "metadata": {},
     "outputs": []
    },
    {
     "cell_type": "code",
     "collapsed": false,
     "input": [
      "from sklearn.preprocessing import binarize\n",
      "\n",
      "grid_searcher.best_estimator_.fit(X_train,y_train)\n",
      "nb_pred_test = grid_searcher_nb.predict_proba(X_test)\n",
      "log_pred_test = grid_searcher_log.predict_proba(X_test)\n",
      "knn_pred_test = grid_searcher.predict_proba(X_test)\n",
      "alpha = 0.1\n",
      "beta = 0.0\n",
      "blend_test = alpha*nb_pred_test + (1-alpha)*log_pred_test + (1 - alpha - beta)*knn_pred_test\n",
      "\n",
      "#pred_test_bin = binarize(blend_test,threshold=0.35)\n",
      "\n",
      "\n",
      "pred_test_bin = grid_searcher_bin.best_estimator_.predict(blend_test)\n",
      "write_labels_to_file(pred_test_bin, 'y_test_bin_knn.csv')"
     ],
     "language": "python",
     "metadata": {},
     "outputs": [
      {
       "output_type": "stream",
       "stream": "stderr",
       "text": [
        "/Library/Python/2.7/site-packages/sklearn/utils/__init__.py:93: DeprecationWarning: Function multilabel_ is deprecated; Attribute multilabel_ is deprecated and will be removed in 0.17. Use 'y_type_.startswith('multilabel')' instead\n",
        "  warnings.warn(msg, category=DeprecationWarning)\n",
        "/Library/Python/2.7/site-packages/sklearn/utils/__init__.py:93: DeprecationWarning: Function multilabel_ is deprecated; Attribute multilabel_ is deprecated and will be removed in 0.17. Use 'y_type_.startswith('multilabel')' instead\n",
        "  warnings.warn(msg, category=DeprecationWarning)\n"
       ]
      },
      {
       "output_type": "stream",
       "stream": "stderr",
       "text": [
        "/Library/Python/2.7/site-packages/sklearn/utils/__init__.py:93: DeprecationWarning: Function multilabel_ is deprecated; Attribute multilabel_ is deprecated and will be removed in 0.17. Use 'y_type_.startswith('multilabel')' instead\n",
        "  warnings.warn(msg, category=DeprecationWarning)\n"
       ]
      }
     ],
     "prompt_number": 223
    },
    {
     "cell_type": "code",
     "collapsed": false,
     "input": [
      "alpha = 0.4\n",
      "beta = 0.4\n",
      "blend_test = alpha*nb_pred_test + (1-alpha)*log_pred_test + (1 - alpha - beta)*knn_pred_test\n",
      "a_test_tf1 = tfidf.transform(blend_test)\n",
      "pred_test_bin = grid_searcher_bin.best_estimator_.predict(blend_test)\n",
      "#pred_test_bin = binarize(blend_test,threshold=0.53)\n",
      "write_labels_to_file(pred_test_bin, 'y_test_bin_knn1.csv')"
     ],
     "language": "python",
     "metadata": {},
     "outputs": [],
     "prompt_number": 319
    },
    {
     "cell_type": "code",
     "collapsed": false,
     "input": [
      "y_test_forest = grid_searcher_bin.best_estimator_.predict()\n",
      "write_labels_to_file(y_test_forest, 'y_test_for.csv')"
     ],
     "language": "python",
     "metadata": {},
     "outputs": [
      {
       "ename": "TypeError",
       "evalue": "predict() takes exactly 2 arguments (1 given)",
       "output_type": "pyerr",
       "traceback": [
        "\u001b[0;31m---------------------------------------------------------------------------\u001b[0m\n\u001b[0;31mTypeError\u001b[0m                                 Traceback (most recent call last)",
        "\u001b[0;32m<ipython-input-107-677a99339e9c>\u001b[0m in \u001b[0;36m<module>\u001b[0;34m()\u001b[0m\n\u001b[0;32m----> 1\u001b[0;31m \u001b[0my_test_forest\u001b[0m \u001b[0;34m=\u001b[0m \u001b[0mgrid_searcher_bin\u001b[0m\u001b[0;34m.\u001b[0m\u001b[0mbest_estimator_\u001b[0m\u001b[0;34m.\u001b[0m\u001b[0mpredict\u001b[0m\u001b[0;34m(\u001b[0m\u001b[0;34m)\u001b[0m\u001b[0;34m\u001b[0m\u001b[0m\n\u001b[0m\u001b[1;32m      2\u001b[0m \u001b[0mwrite_labels_to_file\u001b[0m\u001b[0;34m(\u001b[0m\u001b[0my_test_forest\u001b[0m\u001b[0;34m,\u001b[0m \u001b[0;34m'y_test_for.csv'\u001b[0m\u001b[0;34m)\u001b[0m\u001b[0;34m\u001b[0m\u001b[0m\n",
        "\u001b[0;31mTypeError\u001b[0m: predict() takes exactly 2 arguments (1 given)"
       ]
      }
     ],
     "prompt_number": 107
    },
    {
     "cell_type": "code",
     "collapsed": false,
     "input": [
      "from sklearn.metrics import f1_score,accuracy_score,confusion_matrix \n",
      "from sklearn.preprocessing import binarize\n",
      "import matplotlib as plt\n",
      "from pylab import *\n",
      "\n",
      "\n",
      "param_values = []\n",
      "param = arange(0,1,0.1)\n",
      "for alpha in param:\n",
      "    blend_matrix = alpha*svm_pred_reg + (1-alpha)*nb_pred + (1- alpha - beta)*knn_pred\n",
      "    Q = f1_score(b_test,blend_matrix.astype(int))\n",
      "    param_values.append(Q)\n",
      "    \n",
      "\n",
      "print amax(param_values)\n",
      "f, ax = plt.subplots(1,1,figsize=(10,6))\n",
      "plt.plot(param_values, color='red', lw=2,linestyle='-', label='c2(n) norm 1 norm 2')    \n",
      "    \n",
      "    \n",
      "    "
     ],
     "language": "python",
     "metadata": {},
     "outputs": []
    },
    {
     "cell_type": "code",
     "collapsed": false,
     "input": [
      "\n"
     ],
     "language": "python",
     "metadata": {},
     "outputs": [],
     "prompt_number": 108
    },
    {
     "cell_type": "markdown",
     "metadata": {},
     "source": [
      "Visualization"
     ]
    },
    {
     "cell_type": "code",
     "collapsed": false,
     "input": [
      "plot_grid_searcher_results(grid_searcher_reg, log_scale=True)\n",
      "print grid_searcher_reg.best_score_\n",
      "print grid_searcher_reg.best_estimator_"
     ],
     "language": "python",
     "metadata": {},
     "outputs": [
      {
       "ename": "NameError",
       "evalue": "name 'grid_searcher_reg' is not defined",
       "output_type": "pyerr",
       "traceback": [
        "\u001b[0;31m---------------------------------------------------------------------------\u001b[0m\n\u001b[0;31mNameError\u001b[0m                                 Traceback (most recent call last)",
        "\u001b[0;32m<ipython-input-109-2f9572d3d3ea>\u001b[0m in \u001b[0;36m<module>\u001b[0;34m()\u001b[0m\n\u001b[0;32m----> 1\u001b[0;31m \u001b[0mplot_grid_searcher_results\u001b[0m\u001b[0;34m(\u001b[0m\u001b[0mgrid_searcher_reg\u001b[0m\u001b[0;34m,\u001b[0m \u001b[0mlog_scale\u001b[0m\u001b[0;34m=\u001b[0m\u001b[0mTrue\u001b[0m\u001b[0;34m)\u001b[0m\u001b[0;34m\u001b[0m\u001b[0m\n\u001b[0m\u001b[1;32m      2\u001b[0m \u001b[0;32mprint\u001b[0m \u001b[0mgrid_searcher_reg\u001b[0m\u001b[0;34m.\u001b[0m\u001b[0mbest_score_\u001b[0m\u001b[0;34m\u001b[0m\u001b[0m\n\u001b[1;32m      3\u001b[0m \u001b[0;32mprint\u001b[0m \u001b[0mgrid_searcher_reg\u001b[0m\u001b[0;34m.\u001b[0m\u001b[0mbest_estimator_\u001b[0m\u001b[0;34m\u001b[0m\u001b[0m\n",
        "\u001b[0;31mNameError\u001b[0m: name 'grid_searcher_reg' is not defined"
       ]
      }
     ],
     "prompt_number": 109
    },
    {
     "cell_type": "markdown",
     "metadata": {},
     "source": [
      "We can see that low number of neighbours is optimal."
     ]
    },
    {
     "cell_type": "code",
     "collapsed": false,
     "input": [
      "y_test_forest = grid_searcher_reg.best_estimator_.predict(X_test)\n",
      "write_labels_to_file(y_test_forest, 'y_test_log.csv')\n"
     ],
     "language": "python",
     "metadata": {},
     "outputs": [
      {
       "ename": "NameError",
       "evalue": "name 'grid_searcher_reg' is not defined",
       "output_type": "pyerr",
       "traceback": [
        "\u001b[0;31m---------------------------------------------------------------------------\u001b[0m\n\u001b[0;31mNameError\u001b[0m                                 Traceback (most recent call last)",
        "\u001b[0;32m<ipython-input-110-29996ffeae83>\u001b[0m in \u001b[0;36m<module>\u001b[0;34m()\u001b[0m\n\u001b[0;32m----> 1\u001b[0;31m \u001b[0my_test_forest\u001b[0m \u001b[0;34m=\u001b[0m \u001b[0mgrid_searcher_reg\u001b[0m\u001b[0;34m.\u001b[0m\u001b[0mbest_estimator_\u001b[0m\u001b[0;34m.\u001b[0m\u001b[0mpredict\u001b[0m\u001b[0;34m(\u001b[0m\u001b[0mX_test\u001b[0m\u001b[0;34m)\u001b[0m\u001b[0;34m\u001b[0m\u001b[0m\n\u001b[0m\u001b[1;32m      2\u001b[0m \u001b[0mwrite_labels_to_file\u001b[0m\u001b[0;34m(\u001b[0m\u001b[0my_test_forest\u001b[0m\u001b[0;34m,\u001b[0m \u001b[0;34m'y_test_log.csv'\u001b[0m\u001b[0;34m)\u001b[0m\u001b[0;34m\u001b[0m\u001b[0m\n",
        "\u001b[0;31mNameError\u001b[0m: name 'grid_searcher_reg' is not defined"
       ]
      }
     ],
     "prompt_number": 110
    },
    {
     "cell_type": "code",
     "collapsed": false,
     "input": [
      "print X_test.shape,blend.shape,y_train.shape\n",
      "#y_test_bayes = grid_searcher.best_estimator_.predict(X_test)\n",
      "#write_labels_to_file(y_test_bayes, 'y_test_bayes_blend1.csv')\n",
      "print y_test.bayes.shape"
     ],
     "language": "python",
     "metadata": {},
     "outputs": [
      {
       "output_type": "stream",
       "stream": "stdout",
       "text": [
        "(10000, 25640) (5000, 83) (10000, 83)\n"
       ]
      },
      {
       "ename": "NameError",
       "evalue": "name 'y_test' is not defined",
       "output_type": "pyerr",
       "traceback": [
        "\u001b[0;31m---------------------------------------------------------------------------\u001b[0m\n\u001b[0;31mNameError\u001b[0m                                 Traceback (most recent call last)",
        "\u001b[0;32m<ipython-input-111-9cc6ef93dcec>\u001b[0m in \u001b[0;36m<module>\u001b[0;34m()\u001b[0m\n\u001b[1;32m      2\u001b[0m \u001b[0;31m#y_test_bayes = grid_searcher.best_estimator_.predict(X_test)\u001b[0m\u001b[0;34m\u001b[0m\u001b[0;34m\u001b[0m\u001b[0m\n\u001b[1;32m      3\u001b[0m \u001b[0;31m#write_labels_to_file(y_test_bayes, 'y_test_bayes_blend1.csv')\u001b[0m\u001b[0;34m\u001b[0m\u001b[0;34m\u001b[0m\u001b[0m\n\u001b[0;32m----> 4\u001b[0;31m \u001b[0;32mprint\u001b[0m \u001b[0my_test\u001b[0m\u001b[0;34m.\u001b[0m\u001b[0mbayes\u001b[0m\u001b[0;34m.\u001b[0m\u001b[0mshape\u001b[0m\u001b[0;34m\u001b[0m\u001b[0m\n\u001b[0m",
        "\u001b[0;31mNameError\u001b[0m: name 'y_test' is not defined"
       ]
      }
     ],
     "prompt_number": 111
    },
    {
     "cell_type": "code",
     "collapsed": false,
     "input": [],
     "language": "python",
     "metadata": {},
     "outputs": []
    }
   ],
   "metadata": {}
  }
 ]
}